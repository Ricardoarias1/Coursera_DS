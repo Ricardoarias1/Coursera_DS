{
  "nbformat": 4,
  "nbformat_minor": 0,
  "metadata": {
    "colab": {
      "name": "Test.ipynb",
      "provenance": [],
      "collapsed_sections": [],
      "toc_visible": true,
      "authorship_tag": "ABX9TyOUGsNRqJCY1FXzXfoGu5KT",
      "include_colab_link": true
    },
    "kernelspec": {
      "name": "python3",
      "display_name": "Python 3"
    },
    "language_info": {
      "name": "python"
    }
  },
  "cells": [
    {
      "cell_type": "markdown",
      "metadata": {
        "id": "view-in-github",
        "colab_type": "text"
      },
      "source": [
        "<a href=\"https://colab.research.google.com/github/Ricardoarias1/Coursera_DS/blob/main/Test.ipynb\" target=\"_parent\"><img src=\"https://colab.research.google.com/assets/colab-badge.svg\" alt=\"Open In Colab\"/></a>"
      ]
    },
    {
      "cell_type": "markdown",
      "metadata": {
        "id": "zbA0CHwbkFES"
      },
      "source": [
        "## Stori Data Science Challenge"
      ]
    },
    {
      "cell_type": "code",
      "metadata": {
        "colab": {
          "base_uri": "https://localhost:8080/"
        },
        "id": "bIQTLJNzNa5u",
        "outputId": "65b7c4b4-c03e-4350-ce84-53bbb794cafb"
      },
      "source": [
        "# Connection to Drive\n",
        "from google.colab import drive\n",
        "drive.mount('/content/drive')"
      ],
      "execution_count": null,
      "outputs": [
        {
          "output_type": "stream",
          "text": [
            "Mounted at /content/drive\n"
          ],
          "name": "stdout"
        }
      ]
    },
    {
      "cell_type": "markdown",
      "metadata": {
        "id": "aYAS63Fp0QM-"
      },
      "source": [
        "**Accessing to the Folder path**"
      ]
    },
    {
      "cell_type": "code",
      "metadata": {
        "colab": {
          "base_uri": "https://localhost:8080/"
        },
        "id": "N2eP5utRPreI",
        "outputId": "61a40e1e-d6f5-49b7-c5a3-73174d93385f"
      },
      "source": [
        "cd /content/drive/MyDrive/Data_Analyst_Jr"
      ],
      "execution_count": null,
      "outputs": [
        {
          "output_type": "stream",
          "text": [
            "/content/drive/MyDrive/Data_Analyst_Jr\n"
          ],
          "name": "stdout"
        }
      ]
    },
    {
      "cell_type": "markdown",
      "metadata": {
        "id": "vYLW2Vi91K4E"
      },
      "source": [
        "**Visualizing content of the Folder**"
      ]
    },
    {
      "cell_type": "code",
      "metadata": {
        "colab": {
          "base_uri": "https://localhost:8080/"
        },
        "id": "MGIfjLCKa72y",
        "outputId": "e7210f81-70e2-4433-de16-0b4df9cec6b8"
      },
      "source": [
        "ls"
      ],
      "execution_count": null,
      "outputs": [
        {
          "output_type": "stream",
          "text": [
            "df.csv  Stori_DS_Challenge_2021.pdf\n"
          ],
          "name": "stdout"
        }
      ]
    },
    {
      "cell_type": "code",
      "metadata": {
        "id": "ISrqDPZMR0hx"
      },
      "source": [
        "# Importing the necessary libraries\n",
        "%matplotlib inline\n",
        "import matplotlib.pyplot as plt\n",
        "import seaborn as sns\n",
        "import pandas as pd\n",
        "import numpy as np"
      ],
      "execution_count": null,
      "outputs": []
    },
    {
      "cell_type": "code",
      "metadata": {
        "id": "Nts82BT2bN09"
      },
      "source": [
        "# Loading loading the fake credit card dataset\n",
        "df = pd.read_csv(\"df.csv\")"
      ],
      "execution_count": null,
      "outputs": []
    },
    {
      "cell_type": "code",
      "metadata": {
        "colab": {
          "base_uri": "https://localhost:8080/",
          "height": 244
        },
        "id": "WTePN-zGha7A",
        "outputId": "70f301ed-61f0-478b-eff9-9e9dc87014dd"
      },
      "source": [
        "df.head()"
      ],
      "execution_count": null,
      "outputs": [
        {
          "output_type": "execute_result",
          "data": {
            "text/html": [
              "<div>\n",
              "<style scoped>\n",
              "    .dataframe tbody tr th:only-of-type {\n",
              "        vertical-align: middle;\n",
              "    }\n",
              "\n",
              "    .dataframe tbody tr th {\n",
              "        vertical-align: top;\n",
              "    }\n",
              "\n",
              "    .dataframe thead th {\n",
              "        text-align: right;\n",
              "    }\n",
              "</style>\n",
              "<table border=\"1\" class=\"dataframe\">\n",
              "  <thead>\n",
              "    <tr style=\"text-align: right;\">\n",
              "      <th></th>\n",
              "      <th>Unnamed: 0</th>\n",
              "      <th>cust_id</th>\n",
              "      <th>activated_date</th>\n",
              "      <th>last_payment_date</th>\n",
              "      <th>balance</th>\n",
              "      <th>balance_frequency</th>\n",
              "      <th>purchases</th>\n",
              "      <th>oneoff_purchases</th>\n",
              "      <th>installments_purchases</th>\n",
              "      <th>cash_advance</th>\n",
              "      <th>purchases_frequency</th>\n",
              "      <th>oneoff_purchases_frequency</th>\n",
              "      <th>purchases_installments_frequency</th>\n",
              "      <th>cash_advance_frequency</th>\n",
              "      <th>cash_advance_trx</th>\n",
              "      <th>purchases_trx</th>\n",
              "      <th>credit_limit</th>\n",
              "      <th>payments</th>\n",
              "      <th>minimum_payments</th>\n",
              "      <th>prc_full_payment</th>\n",
              "      <th>tenure</th>\n",
              "      <th>fraud</th>\n",
              "    </tr>\n",
              "  </thead>\n",
              "  <tbody>\n",
              "    <tr>\n",
              "      <th>0</th>\n",
              "      <td>1</td>\n",
              "      <td>C10001</td>\n",
              "      <td>2019-10-06</td>\n",
              "      <td>2020-09-09</td>\n",
              "      <td>40.900749</td>\n",
              "      <td>0.818182</td>\n",
              "      <td>95.40</td>\n",
              "      <td>0.00</td>\n",
              "      <td>95.4</td>\n",
              "      <td>0.000000</td>\n",
              "      <td>0.166667</td>\n",
              "      <td>0.000000</td>\n",
              "      <td>0.083333</td>\n",
              "      <td>0.000000</td>\n",
              "      <td>0</td>\n",
              "      <td>2</td>\n",
              "      <td>1000.0</td>\n",
              "      <td>201.802084</td>\n",
              "      <td>139.509787</td>\n",
              "      <td>0.000000</td>\n",
              "      <td>12</td>\n",
              "      <td>0</td>\n",
              "    </tr>\n",
              "    <tr>\n",
              "      <th>1</th>\n",
              "      <td>2</td>\n",
              "      <td>C10002</td>\n",
              "      <td>2019-10-06</td>\n",
              "      <td>2020-07-04</td>\n",
              "      <td>3202.467416</td>\n",
              "      <td>0.909091</td>\n",
              "      <td>0.00</td>\n",
              "      <td>0.00</td>\n",
              "      <td>0.0</td>\n",
              "      <td>6442.945483</td>\n",
              "      <td>0.000000</td>\n",
              "      <td>0.000000</td>\n",
              "      <td>0.000000</td>\n",
              "      <td>0.250000</td>\n",
              "      <td>4</td>\n",
              "      <td>0</td>\n",
              "      <td>7000.0</td>\n",
              "      <td>4103.032597</td>\n",
              "      <td>1072.340217</td>\n",
              "      <td>0.222222</td>\n",
              "      <td>12</td>\n",
              "      <td>0</td>\n",
              "    </tr>\n",
              "    <tr>\n",
              "      <th>2</th>\n",
              "      <td>3</td>\n",
              "      <td>C10003</td>\n",
              "      <td>2019-10-06</td>\n",
              "      <td>2020-09-17</td>\n",
              "      <td>2495.148862</td>\n",
              "      <td>1.000000</td>\n",
              "      <td>773.17</td>\n",
              "      <td>773.17</td>\n",
              "      <td>0.0</td>\n",
              "      <td>0.000000</td>\n",
              "      <td>1.000000</td>\n",
              "      <td>1.000000</td>\n",
              "      <td>0.000000</td>\n",
              "      <td>0.000000</td>\n",
              "      <td>0</td>\n",
              "      <td>12</td>\n",
              "      <td>7500.0</td>\n",
              "      <td>622.066742</td>\n",
              "      <td>627.284787</td>\n",
              "      <td>0.000000</td>\n",
              "      <td>12</td>\n",
              "      <td>0</td>\n",
              "    </tr>\n",
              "    <tr>\n",
              "      <th>3</th>\n",
              "      <td>4</td>\n",
              "      <td>C10004</td>\n",
              "      <td>2019-10-06</td>\n",
              "      <td>2020-08-24</td>\n",
              "      <td>1666.670542</td>\n",
              "      <td>0.636364</td>\n",
              "      <td>1499.00</td>\n",
              "      <td>1499.00</td>\n",
              "      <td>0.0</td>\n",
              "      <td>205.788017</td>\n",
              "      <td>0.083333</td>\n",
              "      <td>0.083333</td>\n",
              "      <td>0.000000</td>\n",
              "      <td>0.083333</td>\n",
              "      <td>1</td>\n",
              "      <td>1</td>\n",
              "      <td>7500.0</td>\n",
              "      <td>0.000000</td>\n",
              "      <td>NaN</td>\n",
              "      <td>0.000000</td>\n",
              "      <td>12</td>\n",
              "      <td>0</td>\n",
              "    </tr>\n",
              "    <tr>\n",
              "      <th>4</th>\n",
              "      <td>5</td>\n",
              "      <td>C10005</td>\n",
              "      <td>2019-10-06</td>\n",
              "      <td>2020-10-20</td>\n",
              "      <td>817.714335</td>\n",
              "      <td>1.000000</td>\n",
              "      <td>16.00</td>\n",
              "      <td>16.00</td>\n",
              "      <td>0.0</td>\n",
              "      <td>0.000000</td>\n",
              "      <td>0.083333</td>\n",
              "      <td>0.083333</td>\n",
              "      <td>0.000000</td>\n",
              "      <td>0.000000</td>\n",
              "      <td>0</td>\n",
              "      <td>1</td>\n",
              "      <td>1200.0</td>\n",
              "      <td>678.334763</td>\n",
              "      <td>244.791237</td>\n",
              "      <td>0.000000</td>\n",
              "      <td>12</td>\n",
              "      <td>0</td>\n",
              "    </tr>\n",
              "  </tbody>\n",
              "</table>\n",
              "</div>"
            ],
            "text/plain": [
              "   Unnamed: 0 cust_id activated_date  ... prc_full_payment  tenure  fraud\n",
              "0           1  C10001     2019-10-06  ...         0.000000      12      0\n",
              "1           2  C10002     2019-10-06  ...         0.222222      12      0\n",
              "2           3  C10003     2019-10-06  ...         0.000000      12      0\n",
              "3           4  C10004     2019-10-06  ...         0.000000      12      0\n",
              "4           5  C10005     2019-10-06  ...         0.000000      12      0\n",
              "\n",
              "[5 rows x 22 columns]"
            ]
          },
          "metadata": {
            "tags": []
          },
          "execution_count": 12
        }
      ]
    },
    {
      "cell_type": "code",
      "metadata": {
        "id": "9YatNRgvJHmP"
      },
      "source": [
        "df = df.drop(\"Unnamed: 0\",axis=1)"
      ],
      "execution_count": null,
      "outputs": []
    },
    {
      "cell_type": "markdown",
      "metadata": {
        "id": "zR0YkLa2tn9l"
      },
      "source": [
        "### Frecuency Tables"
      ]
    },
    {
      "cell_type": "code",
      "metadata": {
        "colab": {
          "base_uri": "https://localhost:8080/"
        },
        "id": "w3w6ekbyiVB-",
        "outputId": "52a5bf47-5dfc-4bf9-fc76-5749b730d9a9"
      },
      "source": [
        "df.isnull().sum()"
      ],
      "execution_count": null,
      "outputs": [
        {
          "output_type": "execute_result",
          "data": {
            "text/plain": [
              "cust_id                               0\n",
              "activated_date                       13\n",
              "last_payment_date                     9\n",
              "balance                               2\n",
              "balance_frequency                     0\n",
              "purchases                             0\n",
              "oneoff_purchases                      0\n",
              "installments_purchases                0\n",
              "cash_advance                        112\n",
              "purchases_frequency                   0\n",
              "oneoff_purchases_frequency            0\n",
              "purchases_installments_frequency      0\n",
              "cash_advance_frequency                0\n",
              "cash_advance_trx                      0\n",
              "purchases_trx                         0\n",
              "credit_limit                          1\n",
              "payments                              0\n",
              "minimum_payments                    321\n",
              "prc_full_payment                      0\n",
              "tenure                                0\n",
              "fraud                                 0\n",
              "dtype: int64"
            ]
          },
          "metadata": {
            "tags": []
          },
          "execution_count": 14
        }
      ]
    },
    {
      "cell_type": "code",
      "metadata": {
        "colab": {
          "base_uri": "https://localhost:8080/"
        },
        "id": "uOvaHwFruCrb",
        "outputId": "b6a0c8fb-316b-4194-ece9-bfe5a9bc21ac"
      },
      "source": [
        "df1 = df\n",
        "df1.dtypes"
      ],
      "execution_count": null,
      "outputs": [
        {
          "output_type": "execute_result",
          "data": {
            "text/plain": [
              "cust_id                              object\n",
              "activated_date                       object\n",
              "last_payment_date                    object\n",
              "balance                             float64\n",
              "balance_frequency                   float64\n",
              "purchases                           float64\n",
              "oneoff_purchases                    float64\n",
              "installments_purchases              float64\n",
              "cash_advance                        float64\n",
              "purchases_frequency                 float64\n",
              "oneoff_purchases_frequency          float64\n",
              "purchases_installments_frequency    float64\n",
              "cash_advance_frequency              float64\n",
              "cash_advance_trx                      int64\n",
              "purchases_trx                         int64\n",
              "credit_limit                        float64\n",
              "payments                            float64\n",
              "minimum_payments                    float64\n",
              "prc_full_payment                    float64\n",
              "tenure                                int64\n",
              "fraud                                 int64\n",
              "dtype: object"
            ]
          },
          "metadata": {
            "tags": []
          },
          "execution_count": 23
        }
      ]
    },
    {
      "cell_type": "code",
      "metadata": {
        "colab": {
          "base_uri": "https://localhost:8080/"
        },
        "id": "Cs9kiShZATBG",
        "outputId": "d245263b-d0cd-4d96-948b-505beb007782"
      },
      "source": [
        "df1['activated_date']= pd.to_datetime(df1['activated_date'].dropna())\n",
        "df1['last_payment_date']= pd.to_datetime(df1['last_payment_date'].dropna())\n",
        "df1.dtypes"
      ],
      "execution_count": null,
      "outputs": [
        {
          "output_type": "execute_result",
          "data": {
            "text/plain": [
              "cust_id                                     object\n",
              "activated_date                      datetime64[ns]\n",
              "last_payment_date                   datetime64[ns]\n",
              "balance                                    float64\n",
              "balance_frequency                          float64\n",
              "purchases                                  float64\n",
              "oneoff_purchases                           float64\n",
              "installments_purchases                     float64\n",
              "cash_advance                               float64\n",
              "purchases_frequency                        float64\n",
              "oneoff_purchases_frequency                 float64\n",
              "purchases_installments_frequency           float64\n",
              "cash_advance_frequency                     float64\n",
              "cash_advance_trx                             int64\n",
              "purchases_trx                                int64\n",
              "credit_limit                               float64\n",
              "payments                                   float64\n",
              "minimum_payments                           float64\n",
              "prc_full_payment                           float64\n",
              "tenure                                       int64\n",
              "fraud                                        int64\n",
              "dtype: object"
            ]
          },
          "metadata": {
            "tags": []
          },
          "execution_count": 46
        }
      ]
    },
    {
      "cell_type": "markdown",
      "metadata": {
        "id": "AWgi_Ai_2q5a"
      },
      "source": [
        "**Question 1**"
      ]
    },
    {
      "cell_type": "markdown",
      "metadata": {
        "id": "OCkbJjiulm92"
      },
      "source": [
        "1.1 Plot an histogram of the balance amount for all the customers.  \n",
        "1.2 Report any structure you find and any hypotheses you have about that structure.  \n",
        "1.3 Report mean and median balance, grouped by year and month of ​activated_date​."
      ]
    },
    {
      "cell_type": "markdown",
      "metadata": {
        "id": "Y9kLMscR5cOb"
      },
      "source": [
        "**1.1 Histogram of the balance amount for all the customers**"
      ]
    },
    {
      "cell_type": "code",
      "metadata": {
        "colab": {
          "base_uri": "https://localhost:8080/",
          "height": 370
        },
        "id": "XgcKBoQ_5fTB",
        "outputId": "0ac352b4-4be8-44cc-a930-15ed8bad9b0a"
      },
      "source": [
        "sns.distplot(df1['balance'].dropna(),  kde = False).set_title(\"Balance Amount\")"
      ],
      "execution_count": null,
      "outputs": [
        {
          "output_type": "stream",
          "text": [
            "/usr/local/lib/python3.7/dist-packages/seaborn/distributions.py:2557: FutureWarning: `distplot` is a deprecated function and will be removed in a future version. Please adapt your code to use either `displot` (a figure-level function with similar flexibility) or `histplot` (an axes-level function for histograms).\n",
            "  warnings.warn(msg, FutureWarning)\n"
          ],
          "name": "stderr"
        },
        {
          "output_type": "execute_result",
          "data": {
            "text/plain": [
              "Text(0.5, 1.0, 'Balance Amount')"
            ]
          },
          "metadata": {
            "tags": []
          },
          "execution_count": 61
        },
        {
          "output_type": "display_data",
          "data": {
            "image/png": "[encoded data removed]",
            "text/plain": [
              "<Figure size 432x288 with 1 Axes>"
            ]
          },
          "metadata": {
            "tags": [],
            "needs_background": "light"
          }
        }
      ]
    },
    {
      "cell_type": "markdown",
      "metadata": {
        "id": "35ndtpUKMh8_"
      },
      "source": [
        "**1.2 Hypothesis**"
      ]
    },
    {
      "cell_type": "markdown",
      "metadata": {
        "id": "wT5vWJ7HMn7B"
      },
      "source": [
        "The distribution of the Balance amount is unimodal and skewed right with the most data between 1000 and 2000, a range roughly of 17500, and outliers are present on the higher end."
      ]
    },
    {
      "cell_type": "markdown",
      "metadata": {
        "id": "zjZF1VBcMH5H"
      },
      "source": [
        "**1.3 Numerical Summaries**"
      ]
    },
    {
      "cell_type": "code",
      "metadata": {
        "id": "nlUeNijrMNk6"
      },
      "source": [
        "year_month = df1.activated_date.dt.to_period(\"M\").dropna()\n",
        "df2=df1.groupby(year_month)"
      ],
      "execution_count": null,
      "outputs": []
    },
    {
      "cell_type": "code",
      "metadata": {
        "colab": {
          "base_uri": "https://localhost:8080/",
          "height": 394
        },
        "id": "67ra_DZ4MRqD",
        "outputId": "fdcb88ca-c88f-450f-a700-c34cbf8da8bb"
      },
      "source": [
        "df3=df2.balance.describe()\n",
        "df3"
      ],
      "execution_count": null,
      "outputs": [
        {
          "output_type": "execute_result",
          "data": {
            "text/html": [
              "<div>\n",
              "<style scoped>\n",
              "    .dataframe tbody tr th:only-of-type {\n",
              "        vertical-align: middle;\n",
              "    }\n",
              "\n",
              "    .dataframe tbody tr th {\n",
              "        vertical-align: top;\n",
              "    }\n",
              "\n",
              "    .dataframe thead th {\n",
              "        text-align: right;\n",
              "    }\n",
              "</style>\n",
              "<table border=\"1\" class=\"dataframe\">\n",
              "  <thead>\n",
              "    <tr style=\"text-align: right;\">\n",
              "      <th></th>\n",
              "      <th>count</th>\n",
              "      <th>mean</th>\n",
              "      <th>std</th>\n",
              "      <th>min</th>\n",
              "      <th>25%</th>\n",
              "      <th>50%</th>\n",
              "      <th>75%</th>\n",
              "      <th>max</th>\n",
              "    </tr>\n",
              "    <tr>\n",
              "      <th>activated_date</th>\n",
              "      <th></th>\n",
              "      <th></th>\n",
              "      <th></th>\n",
              "      <th></th>\n",
              "      <th></th>\n",
              "      <th></th>\n",
              "      <th></th>\n",
              "      <th></th>\n",
              "    </tr>\n",
              "  </thead>\n",
              "  <tbody>\n",
              "    <tr>\n",
              "      <th>2019-10</th>\n",
              "      <td>809.0</td>\n",
              "      <td>2482.234166</td>\n",
              "      <td>2859.577661</td>\n",
              "      <td>0.0</td>\n",
              "      <td>336.799916</td>\n",
              "      <td>1524.409377</td>\n",
              "      <td>3605.714046</td>\n",
              "      <td>19043.138560</td>\n",
              "    </tr>\n",
              "    <tr>\n",
              "      <th>2019-11</th>\n",
              "      <td>954.0</td>\n",
              "      <td>1848.704323</td>\n",
              "      <td>2223.193971</td>\n",
              "      <td>0.0</td>\n",
              "      <td>192.419354</td>\n",
              "      <td>1082.071173</td>\n",
              "      <td>2699.798738</td>\n",
              "      <td>14581.459140</td>\n",
              "    </tr>\n",
              "    <tr>\n",
              "      <th>2019-12</th>\n",
              "      <td>866.0</td>\n",
              "      <td>2018.788906</td>\n",
              "      <td>2377.115065</td>\n",
              "      <td>0.0</td>\n",
              "      <td>247.943044</td>\n",
              "      <td>1162.588384</td>\n",
              "      <td>2813.362377</td>\n",
              "      <td>15532.339720</td>\n",
              "    </tr>\n",
              "    <tr>\n",
              "      <th>2020-01</th>\n",
              "      <td>887.0</td>\n",
              "      <td>1854.535889</td>\n",
              "      <td>2156.129326</td>\n",
              "      <td>0.0</td>\n",
              "      <td>226.579147</td>\n",
              "      <td>1175.749847</td>\n",
              "      <td>2494.143161</td>\n",
              "      <td>12323.845360</td>\n",
              "    </tr>\n",
              "    <tr>\n",
              "      <th>2020-02</th>\n",
              "      <td>860.0</td>\n",
              "      <td>1747.350977</td>\n",
              "      <td>2189.665166</td>\n",
              "      <td>0.0</td>\n",
              "      <td>186.080861</td>\n",
              "      <td>994.841733</td>\n",
              "      <td>2517.527947</td>\n",
              "      <td>18495.558550</td>\n",
              "    </tr>\n",
              "    <tr>\n",
              "      <th>2020-03</th>\n",
              "      <td>928.0</td>\n",
              "      <td>1554.973023</td>\n",
              "      <td>2085.847658</td>\n",
              "      <td>0.0</td>\n",
              "      <td>115.820369</td>\n",
              "      <td>828.954823</td>\n",
              "      <td>2003.181650</td>\n",
              "      <td>16115.596400</td>\n",
              "    </tr>\n",
              "    <tr>\n",
              "      <th>2020-04</th>\n",
              "      <td>882.0</td>\n",
              "      <td>1483.183191</td>\n",
              "      <td>1864.687815</td>\n",
              "      <td>0.0</td>\n",
              "      <td>182.342490</td>\n",
              "      <td>910.141912</td>\n",
              "      <td>1992.145746</td>\n",
              "      <td>16304.889250</td>\n",
              "    </tr>\n",
              "    <tr>\n",
              "      <th>2020-05</th>\n",
              "      <td>932.0</td>\n",
              "      <td>1214.333732</td>\n",
              "      <td>1619.836202</td>\n",
              "      <td>0.0</td>\n",
              "      <td>81.822519</td>\n",
              "      <td>734.557681</td>\n",
              "      <td>1615.307507</td>\n",
              "      <td>16259.448570</td>\n",
              "    </tr>\n",
              "    <tr>\n",
              "      <th>2020-06</th>\n",
              "      <td>874.0</td>\n",
              "      <td>939.997996</td>\n",
              "      <td>1339.875550</td>\n",
              "      <td>0.0</td>\n",
              "      <td>68.766102</td>\n",
              "      <td>472.791862</td>\n",
              "      <td>1276.442120</td>\n",
              "      <td>13318.659120</td>\n",
              "    </tr>\n",
              "    <tr>\n",
              "      <th>2020-07</th>\n",
              "      <td>943.0</td>\n",
              "      <td>649.717622</td>\n",
              "      <td>972.670644</td>\n",
              "      <td>0.0</td>\n",
              "      <td>32.807299</td>\n",
              "      <td>221.291290</td>\n",
              "      <td>956.237316</td>\n",
              "      <td>7302.672686</td>\n",
              "    </tr>\n",
              "  </tbody>\n",
              "</table>\n",
              "</div>"
            ],
            "text/plain": [
              "                count         mean  ...          75%           max\n",
              "activated_date                      ...                           \n",
              "2019-10         809.0  2482.234166  ...  3605.714046  19043.138560\n",
              "2019-11         954.0  1848.704323  ...  2699.798738  14581.459140\n",
              "2019-12         866.0  2018.788906  ...  2813.362377  15532.339720\n",
              "2020-01         887.0  1854.535889  ...  2494.143161  12323.845360\n",
              "2020-02         860.0  1747.350977  ...  2517.527947  18495.558550\n",
              "2020-03         928.0  1554.973023  ...  2003.181650  16115.596400\n",
              "2020-04         882.0  1483.183191  ...  1992.145746  16304.889250\n",
              "2020-05         932.0  1214.333732  ...  1615.307507  16259.448570\n",
              "2020-06         874.0   939.997996  ...  1276.442120  13318.659120\n",
              "2020-07         943.0   649.717622  ...   956.237316   7302.672686\n",
              "\n",
              "[10 rows x 8 columns]"
            ]
          },
          "metadata": {
            "tags": []
          },
          "execution_count": 88
        }
      ]
    },
    {
      "cell_type": "code",
      "metadata": {
        "colab": {
          "base_uri": "https://localhost:8080/",
          "height": 394
        },
        "id": "gwnkAAkQMYiN",
        "outputId": "be4b2f2b-be15-46d0-f290-0d6cd783ad6b"
      },
      "source": [
        "df3[\"median\"] = df2.balance.median()\n",
        "df3"
      ],
      "execution_count": null,
      "outputs": [
        {
          "output_type": "execute_result",
          "data": {
            "text/html": [
              "<div>\n",
              "<style scoped>\n",
              "    .dataframe tbody tr th:only-of-type {\n",
              "        vertical-align: middle;\n",
              "    }\n",
              "\n",
              "    .dataframe tbody tr th {\n",
              "        vertical-align: top;\n",
              "    }\n",
              "\n",
              "    .dataframe thead th {\n",
              "        text-align: right;\n",
              "    }\n",
              "</style>\n",
              "<table border=\"1\" class=\"dataframe\">\n",
              "  <thead>\n",
              "    <tr style=\"text-align: right;\">\n",
              "      <th></th>\n",
              "      <th>count</th>\n",
              "      <th>mean</th>\n",
              "      <th>std</th>\n",
              "      <th>min</th>\n",
              "      <th>25%</th>\n",
              "      <th>50%</th>\n",
              "      <th>75%</th>\n",
              "      <th>max</th>\n",
              "      <th>median</th>\n",
              "    </tr>\n",
              "    <tr>\n",
              "      <th>activated_date</th>\n",
              "      <th></th>\n",
              "      <th></th>\n",
              "      <th></th>\n",
              "      <th></th>\n",
              "      <th></th>\n",
              "      <th></th>\n",
              "      <th></th>\n",
              "      <th></th>\n",
              "      <th></th>\n",
              "    </tr>\n",
              "  </thead>\n",
              "  <tbody>\n",
              "    <tr>\n",
              "      <th>2019-10</th>\n",
              "      <td>809.0</td>\n",
              "      <td>2482.234166</td>\n",
              "      <td>2859.577661</td>\n",
              "      <td>0.0</td>\n",
              "      <td>336.799916</td>\n",
              "      <td>1524.409377</td>\n",
              "      <td>3605.714046</td>\n",
              "      <td>19043.138560</td>\n",
              "      <td>1524.409377</td>\n",
              "    </tr>\n",
              "    <tr>\n",
              "      <th>2019-11</th>\n",
              "      <td>954.0</td>\n",
              "      <td>1848.704323</td>\n",
              "      <td>2223.193971</td>\n",
              "      <td>0.0</td>\n",
              "      <td>192.419354</td>\n",
              "      <td>1082.071173</td>\n",
              "      <td>2699.798738</td>\n",
              "      <td>14581.459140</td>\n",
              "      <td>1082.071173</td>\n",
              "    </tr>\n",
              "    <tr>\n",
              "      <th>2019-12</th>\n",
              "      <td>866.0</td>\n",
              "      <td>2018.788906</td>\n",
              "      <td>2377.115065</td>\n",
              "      <td>0.0</td>\n",
              "      <td>247.943044</td>\n",
              "      <td>1162.588384</td>\n",
              "      <td>2813.362377</td>\n",
              "      <td>15532.339720</td>\n",
              "      <td>1162.588384</td>\n",
              "    </tr>\n",
              "    <tr>\n",
              "      <th>2020-01</th>\n",
              "      <td>887.0</td>\n",
              "      <td>1854.535889</td>\n",
              "      <td>2156.129326</td>\n",
              "      <td>0.0</td>\n",
              "      <td>226.579147</td>\n",
              "      <td>1175.749847</td>\n",
              "      <td>2494.143161</td>\n",
              "      <td>12323.845360</td>\n",
              "      <td>1175.749847</td>\n",
              "    </tr>\n",
              "    <tr>\n",
              "      <th>2020-02</th>\n",
              "      <td>860.0</td>\n",
              "      <td>1747.350977</td>\n",
              "      <td>2189.665166</td>\n",
              "      <td>0.0</td>\n",
              "      <td>186.080861</td>\n",
              "      <td>994.841733</td>\n",
              "      <td>2517.527947</td>\n",
              "      <td>18495.558550</td>\n",
              "      <td>994.841733</td>\n",
              "    </tr>\n",
              "    <tr>\n",
              "      <th>2020-03</th>\n",
              "      <td>928.0</td>\n",
              "      <td>1554.973023</td>\n",
              "      <td>2085.847658</td>\n",
              "      <td>0.0</td>\n",
              "      <td>115.820369</td>\n",
              "      <td>828.954823</td>\n",
              "      <td>2003.181650</td>\n",
              "      <td>16115.596400</td>\n",
              "      <td>828.954823</td>\n",
              "    </tr>\n",
              "    <tr>\n",
              "      <th>2020-04</th>\n",
              "      <td>882.0</td>\n",
              "      <td>1483.183191</td>\n",
              "      <td>1864.687815</td>\n",
              "      <td>0.0</td>\n",
              "      <td>182.342490</td>\n",
              "      <td>910.141912</td>\n",
              "      <td>1992.145746</td>\n",
              "      <td>16304.889250</td>\n",
              "      <td>910.141912</td>\n",
              "    </tr>\n",
              "    <tr>\n",
              "      <th>2020-05</th>\n",
              "      <td>932.0</td>\n",
              "      <td>1214.333732</td>\n",
              "      <td>1619.836202</td>\n",
              "      <td>0.0</td>\n",
              "      <td>81.822519</td>\n",
              "      <td>734.557681</td>\n",
              "      <td>1615.307507</td>\n",
              "      <td>16259.448570</td>\n",
              "      <td>734.557681</td>\n",
              "    </tr>\n",
              "    <tr>\n",
              "      <th>2020-06</th>\n",
              "      <td>874.0</td>\n",
              "      <td>939.997996</td>\n",
              "      <td>1339.875550</td>\n",
              "      <td>0.0</td>\n",
              "      <td>68.766102</td>\n",
              "      <td>472.791862</td>\n",
              "      <td>1276.442120</td>\n",
              "      <td>13318.659120</td>\n",
              "      <td>472.791862</td>\n",
              "    </tr>\n",
              "    <tr>\n",
              "      <th>2020-07</th>\n",
              "      <td>943.0</td>\n",
              "      <td>649.717622</td>\n",
              "      <td>972.670644</td>\n",
              "      <td>0.0</td>\n",
              "      <td>32.807299</td>\n",
              "      <td>221.291290</td>\n",
              "      <td>956.237316</td>\n",
              "      <td>7302.672686</td>\n",
              "      <td>221.291290</td>\n",
              "    </tr>\n",
              "  </tbody>\n",
              "</table>\n",
              "</div>"
            ],
            "text/plain": [
              "                count         mean  ...           max       median\n",
              "activated_date                      ...                           \n",
              "2019-10         809.0  2482.234166  ...  19043.138560  1524.409377\n",
              "2019-11         954.0  1848.704323  ...  14581.459140  1082.071173\n",
              "2019-12         866.0  2018.788906  ...  15532.339720  1162.588384\n",
              "2020-01         887.0  1854.535889  ...  12323.845360  1175.749847\n",
              "2020-02         860.0  1747.350977  ...  18495.558550   994.841733\n",
              "2020-03         928.0  1554.973023  ...  16115.596400   828.954823\n",
              "2020-04         882.0  1483.183191  ...  16304.889250   910.141912\n",
              "2020-05         932.0  1214.333732  ...  16259.448570   734.557681\n",
              "2020-06         874.0   939.997996  ...  13318.659120   472.791862\n",
              "2020-07         943.0   649.717622  ...   7302.672686   221.291290\n",
              "\n",
              "[10 rows x 9 columns]"
            ]
          },
          "metadata": {
            "tags": []
          },
          "execution_count": 89
        }
      ]
    },
    {
      "cell_type": "markdown",
      "metadata": {
        "id": "4RNNoeIPXIZM"
      },
      "source": [
        "**Question 2**"
      ]
    },
    {
      "cell_type": "markdown",
      "metadata": {
        "id": "cZ_WXEJFlJjg"
      },
      "source": [
        "2.1   Report in a table the following information for customers who activated their account and made their last payment during 2020:  ​cust_id (excluding letters), ​activated_date (in format YYYY-MM), ​last_payment_date (in format YYYY-MM-DD, cash_advance​, ​credit_limit​, and a calculated field of ​cash_advance​ as a percentage of ​credit_limit."
      ]
    },
    {
      "cell_type": "code",
      "metadata": {
        "id": "C4nJHOGAPTur"
      },
      "source": [
        "df_q2=df1[[\"cust_id\", \"activated_date\", \"last_payment_date\", \"cash_advance\", \n",
        "     \"credit_limit\"]]"
      ],
      "execution_count": null,
      "outputs": []
    },
    {
      "cell_type": "code",
      "metadata": {
        "colab": {
          "base_uri": "https://localhost:8080/",
          "height": 554
        },
        "id": "r9_yJPObZvsU",
        "outputId": "35ce2490-6167-4fe7-e02a-c8ed7e87e758"
      },
      "source": [
        "df_q2.loc[:,\"cust_id\"]=df_q2.loc[:,\"cust_id\"].str.replace(r'\\D', '').astype(int)\n",
        "df_q2"
      ],
      "execution_count": null,
      "outputs": [
        {
          "output_type": "stream",
          "text": [
            "/usr/local/lib/python3.7/dist-packages/pandas/core/indexing.py:1743: SettingWithCopyWarning: \n",
            "A value is trying to be set on a copy of a slice from a DataFrame.\n",
            "Try using .loc[row_indexer,col_indexer] = value instead\n",
            "\n",
            "See the caveats in the documentation: https://pandas.pydata.org/pandas-docs/stable/user_guide/indexing.html#returning-a-view-versus-a-copy\n",
            "  isetter(ilocs[0], value)\n"
          ],
          "name": "stderr"
        },
        {
          "output_type": "execute_result",
          "data": {
            "text/html": [
              "<div>\n",
              "<style scoped>\n",
              "    .dataframe tbody tr th:only-of-type {\n",
              "        vertical-align: middle;\n",
              "    }\n",
              "\n",
              "    .dataframe tbody tr th {\n",
              "        vertical-align: top;\n",
              "    }\n",
              "\n",
              "    .dataframe thead th {\n",
              "        text-align: right;\n",
              "    }\n",
              "</style>\n",
              "<table border=\"1\" class=\"dataframe\">\n",
              "  <thead>\n",
              "    <tr style=\"text-align: right;\">\n",
              "      <th></th>\n",
              "      <th>cust_id</th>\n",
              "      <th>activated_date</th>\n",
              "      <th>last_payment_date</th>\n",
              "      <th>cash_advance</th>\n",
              "      <th>credit_limit</th>\n",
              "    </tr>\n",
              "  </thead>\n",
              "  <tbody>\n",
              "    <tr>\n",
              "      <th>0</th>\n",
              "      <td>10001</td>\n",
              "      <td>2019-10-06</td>\n",
              "      <td>2020-09-09</td>\n",
              "      <td>0.000000</td>\n",
              "      <td>1000.0</td>\n",
              "    </tr>\n",
              "    <tr>\n",
              "      <th>1</th>\n",
              "      <td>10002</td>\n",
              "      <td>2019-10-06</td>\n",
              "      <td>2020-07-04</td>\n",
              "      <td>6442.945483</td>\n",
              "      <td>7000.0</td>\n",
              "    </tr>\n",
              "    <tr>\n",
              "      <th>2</th>\n",
              "      <td>10003</td>\n",
              "      <td>2019-10-06</td>\n",
              "      <td>2020-09-17</td>\n",
              "      <td>0.000000</td>\n",
              "      <td>7500.0</td>\n",
              "    </tr>\n",
              "    <tr>\n",
              "      <th>3</th>\n",
              "      <td>10004</td>\n",
              "      <td>2019-10-06</td>\n",
              "      <td>2020-08-24</td>\n",
              "      <td>205.788017</td>\n",
              "      <td>7500.0</td>\n",
              "    </tr>\n",
              "    <tr>\n",
              "      <th>4</th>\n",
              "      <td>10005</td>\n",
              "      <td>2019-10-06</td>\n",
              "      <td>2020-10-20</td>\n",
              "      <td>0.000000</td>\n",
              "      <td>1200.0</td>\n",
              "    </tr>\n",
              "    <tr>\n",
              "      <th>...</th>\n",
              "      <td>...</td>\n",
              "      <td>...</td>\n",
              "      <td>...</td>\n",
              "      <td>...</td>\n",
              "      <td>...</td>\n",
              "    </tr>\n",
              "    <tr>\n",
              "      <th>8945</th>\n",
              "      <td>19186</td>\n",
              "      <td>2020-07-31</td>\n",
              "      <td>2020-11-03</td>\n",
              "      <td>0.000000</td>\n",
              "      <td>1000.0</td>\n",
              "    </tr>\n",
              "    <tr>\n",
              "      <th>8946</th>\n",
              "      <td>19187</td>\n",
              "      <td>2020-07-31</td>\n",
              "      <td>2020-09-06</td>\n",
              "      <td>0.000000</td>\n",
              "      <td>1000.0</td>\n",
              "    </tr>\n",
              "    <tr>\n",
              "      <th>8947</th>\n",
              "      <td>19188</td>\n",
              "      <td>2020-07-31</td>\n",
              "      <td>2020-06-03</td>\n",
              "      <td>0.000000</td>\n",
              "      <td>1000.0</td>\n",
              "    </tr>\n",
              "    <tr>\n",
              "      <th>8948</th>\n",
              "      <td>19189</td>\n",
              "      <td>2020-07-31</td>\n",
              "      <td>2020-07-19</td>\n",
              "      <td>36.558778</td>\n",
              "      <td>500.0</td>\n",
              "    </tr>\n",
              "    <tr>\n",
              "      <th>8949</th>\n",
              "      <td>19190</td>\n",
              "      <td>2020-07-31</td>\n",
              "      <td>2020-10-14</td>\n",
              "      <td>127.040008</td>\n",
              "      <td>1200.0</td>\n",
              "    </tr>\n",
              "  </tbody>\n",
              "</table>\n",
              "<p>8950 rows × 5 columns</p>\n",
              "</div>"
            ],
            "text/plain": [
              "      cust_id activated_date last_payment_date  cash_advance  credit_limit\n",
              "0       10001     2019-10-06        2020-09-09      0.000000        1000.0\n",
              "1       10002     2019-10-06        2020-07-04   6442.945483        7000.0\n",
              "2       10003     2019-10-06        2020-09-17      0.000000        7500.0\n",
              "3       10004     2019-10-06        2020-08-24    205.788017        7500.0\n",
              "4       10005     2019-10-06        2020-10-20      0.000000        1200.0\n",
              "...       ...            ...               ...           ...           ...\n",
              "8945    19186     2020-07-31        2020-11-03      0.000000        1000.0\n",
              "8946    19187     2020-07-31        2020-09-06      0.000000        1000.0\n",
              "8947    19188     2020-07-31        2020-06-03      0.000000        1000.0\n",
              "8948    19189     2020-07-31        2020-07-19     36.558778         500.0\n",
              "8949    19190     2020-07-31        2020-10-14    127.040008        1200.0\n",
              "\n",
              "[8950 rows x 5 columns]"
            ]
          },
          "metadata": {
            "tags": []
          },
          "execution_count": 126
        }
      ]
    },
    {
      "cell_type": "code",
      "metadata": {
        "colab": {
          "base_uri": "https://localhost:8080/"
        },
        "id": "0-uBDd1-b5rG",
        "outputId": "44f15edd-07da-4c65-9e30-a309b2447765"
      },
      "source": [
        "df_q2.loc[:,\"activated_date\"]=df_q2.activated_date.dt.to_period(\"M\")"
      ],
      "execution_count": null,
      "outputs": [
        {
          "output_type": "stream",
          "text": [
            "/usr/local/lib/python3.7/dist-packages/pandas/core/indexing.py:1743: SettingWithCopyWarning: \n",
            "A value is trying to be set on a copy of a slice from a DataFrame.\n",
            "Try using .loc[row_indexer,col_indexer] = value instead\n",
            "\n",
            "See the caveats in the documentation: https://pandas.pydata.org/pandas-docs/stable/user_guide/indexing.html#returning-a-view-versus-a-copy\n",
            "  isetter(ilocs[0], value)\n"
          ],
          "name": "stderr"
        }
      ]
    },
    {
      "cell_type": "code",
      "metadata": {
        "colab": {
          "base_uri": "https://localhost:8080/"
        },
        "id": "jxpG_XJyd1DK",
        "outputId": "6e3b75e0-d28a-4feb-a72e-1402a894eab9"
      },
      "source": [
        "df_q2.loc[:,\"last_payment_date\"]=df_q2.last_payment_date.dt.to_period(\"D\")"
      ],
      "execution_count": null,
      "outputs": [
        {
          "output_type": "stream",
          "text": [
            "/usr/local/lib/python3.7/dist-packages/pandas/core/indexing.py:1743: SettingWithCopyWarning: \n",
            "A value is trying to be set on a copy of a slice from a DataFrame.\n",
            "Try using .loc[row_indexer,col_indexer] = value instead\n",
            "\n",
            "See the caveats in the documentation: https://pandas.pydata.org/pandas-docs/stable/user_guide/indexing.html#returning-a-view-versus-a-copy\n",
            "  isetter(ilocs[0], value)\n"
          ],
          "name": "stderr"
        }
      ]
    },
    {
      "cell_type": "code",
      "metadata": {
        "colab": {
          "base_uri": "https://localhost:8080/"
        },
        "id": "Qi9yIwXWev7r",
        "outputId": "e2e82cb6-666e-4199-8ebe-f45d77daa0fc"
      },
      "source": [
        "df_q2.dtypes"
      ],
      "execution_count": null,
      "outputs": [
        {
          "output_type": "execute_result",
          "data": {
            "text/plain": [
              "cust_id                  int64\n",
              "activated_date       period[M]\n",
              "last_payment_date    period[D]\n",
              "cash_advance           float64\n",
              "credit_limit           float64\n",
              "dtype: object"
            ]
          },
          "metadata": {
            "tags": []
          },
          "execution_count": 129
        }
      ]
    },
    {
      "cell_type": "code",
      "metadata": {
        "colab": {
          "base_uri": "https://localhost:8080/"
        },
        "id": "I-XdH2Qze8lr",
        "outputId": "8cd3a0ab-ffdd-4afa-daa0-f2605fdb9e57"
      },
      "source": [
        "df_q2[\"percentage\"] = (df_q2['cash_advance'] / df_q2['credit_limit']) * 100"
      ],
      "execution_count": null,
      "outputs": [
        {
          "output_type": "stream",
          "text": [
            "/usr/local/lib/python3.7/dist-packages/ipykernel_launcher.py:1: SettingWithCopyWarning: \n",
            "A value is trying to be set on a copy of a slice from a DataFrame.\n",
            "Try using .loc[row_indexer,col_indexer] = value instead\n",
            "\n",
            "See the caveats in the documentation: https://pandas.pydata.org/pandas-docs/stable/user_guide/indexing.html#returning-a-view-versus-a-copy\n",
            "  \"\"\"Entry point for launching an IPython kernel.\n"
          ],
          "name": "stderr"
        }
      ]
    },
    {
      "cell_type": "code",
      "metadata": {
        "colab": {
          "base_uri": "https://localhost:8080/",
          "height": 424
        },
        "id": "31phM5flie-p",
        "outputId": "dfd1bcdd-e3ed-4e5f-954f-571bd8bfe175"
      },
      "source": [
        "df_q2"
      ],
      "execution_count": null,
      "outputs": [
        {
          "output_type": "execute_result",
          "data": {
            "text/html": [
              "<div>\n",
              "<style scoped>\n",
              "    .dataframe tbody tr th:only-of-type {\n",
              "        vertical-align: middle;\n",
              "    }\n",
              "\n",
              "    .dataframe tbody tr th {\n",
              "        vertical-align: top;\n",
              "    }\n",
              "\n",
              "    .dataframe thead th {\n",
              "        text-align: right;\n",
              "    }\n",
              "</style>\n",
              "<table border=\"1\" class=\"dataframe\">\n",
              "  <thead>\n",
              "    <tr style=\"text-align: right;\">\n",
              "      <th></th>\n",
              "      <th>cust_id</th>\n",
              "      <th>activated_date</th>\n",
              "      <th>last_payment_date</th>\n",
              "      <th>cash_advance</th>\n",
              "      <th>credit_limit</th>\n",
              "      <th>percentage</th>\n",
              "    </tr>\n",
              "  </thead>\n",
              "  <tbody>\n",
              "    <tr>\n",
              "      <th>0</th>\n",
              "      <td>10001</td>\n",
              "      <td>2019-10</td>\n",
              "      <td>2020-09-09</td>\n",
              "      <td>0.000000</td>\n",
              "      <td>1000.0</td>\n",
              "      <td>0.000000</td>\n",
              "    </tr>\n",
              "    <tr>\n",
              "      <th>1</th>\n",
              "      <td>10002</td>\n",
              "      <td>2019-10</td>\n",
              "      <td>2020-07-04</td>\n",
              "      <td>6442.945483</td>\n",
              "      <td>7000.0</td>\n",
              "      <td>92.042078</td>\n",
              "    </tr>\n",
              "    <tr>\n",
              "      <th>2</th>\n",
              "      <td>10003</td>\n",
              "      <td>2019-10</td>\n",
              "      <td>2020-09-17</td>\n",
              "      <td>0.000000</td>\n",
              "      <td>7500.0</td>\n",
              "      <td>0.000000</td>\n",
              "    </tr>\n",
              "    <tr>\n",
              "      <th>3</th>\n",
              "      <td>10004</td>\n",
              "      <td>2019-10</td>\n",
              "      <td>2020-08-24</td>\n",
              "      <td>205.788017</td>\n",
              "      <td>7500.0</td>\n",
              "      <td>2.743840</td>\n",
              "    </tr>\n",
              "    <tr>\n",
              "      <th>4</th>\n",
              "      <td>10005</td>\n",
              "      <td>2019-10</td>\n",
              "      <td>2020-10-20</td>\n",
              "      <td>0.000000</td>\n",
              "      <td>1200.0</td>\n",
              "      <td>0.000000</td>\n",
              "    </tr>\n",
              "    <tr>\n",
              "      <th>...</th>\n",
              "      <td>...</td>\n",
              "      <td>...</td>\n",
              "      <td>...</td>\n",
              "      <td>...</td>\n",
              "      <td>...</td>\n",
              "      <td>...</td>\n",
              "    </tr>\n",
              "    <tr>\n",
              "      <th>8945</th>\n",
              "      <td>19186</td>\n",
              "      <td>2020-07</td>\n",
              "      <td>2020-11-03</td>\n",
              "      <td>0.000000</td>\n",
              "      <td>1000.0</td>\n",
              "      <td>0.000000</td>\n",
              "    </tr>\n",
              "    <tr>\n",
              "      <th>8946</th>\n",
              "      <td>19187</td>\n",
              "      <td>2020-07</td>\n",
              "      <td>2020-09-06</td>\n",
              "      <td>0.000000</td>\n",
              "      <td>1000.0</td>\n",
              "      <td>0.000000</td>\n",
              "    </tr>\n",
              "    <tr>\n",
              "      <th>8947</th>\n",
              "      <td>19188</td>\n",
              "      <td>2020-07</td>\n",
              "      <td>2020-06-03</td>\n",
              "      <td>0.000000</td>\n",
              "      <td>1000.0</td>\n",
              "      <td>0.000000</td>\n",
              "    </tr>\n",
              "    <tr>\n",
              "      <th>8948</th>\n",
              "      <td>19189</td>\n",
              "      <td>2020-07</td>\n",
              "      <td>2020-07-19</td>\n",
              "      <td>36.558778</td>\n",
              "      <td>500.0</td>\n",
              "      <td>7.311756</td>\n",
              "    </tr>\n",
              "    <tr>\n",
              "      <th>8949</th>\n",
              "      <td>19190</td>\n",
              "      <td>2020-07</td>\n",
              "      <td>2020-10-14</td>\n",
              "      <td>127.040008</td>\n",
              "      <td>1200.0</td>\n",
              "      <td>10.586667</td>\n",
              "    </tr>\n",
              "  </tbody>\n",
              "</table>\n",
              "<p>8950 rows × 6 columns</p>\n",
              "</div>"
            ],
            "text/plain": [
              "      cust_id activated_date  ... credit_limit  percentage\n",
              "0       10001        2019-10  ...       1000.0    0.000000\n",
              "1       10002        2019-10  ...       7000.0   92.042078\n",
              "2       10003        2019-10  ...       7500.0    0.000000\n",
              "3       10004        2019-10  ...       7500.0    2.743840\n",
              "4       10005        2019-10  ...       1200.0    0.000000\n",
              "...       ...            ...  ...          ...         ...\n",
              "8945    19186        2020-07  ...       1000.0    0.000000\n",
              "8946    19187        2020-07  ...       1000.0    0.000000\n",
              "8947    19188        2020-07  ...       1000.0    0.000000\n",
              "8948    19189        2020-07  ...        500.0    7.311756\n",
              "8949    19190        2020-07  ...       1200.0   10.586667\n",
              "\n",
              "[8950 rows x 6 columns]"
            ]
          },
          "metadata": {
            "tags": []
          },
          "execution_count": 133
        }
      ]
    },
    {
      "cell_type": "markdown",
      "metadata": {
        "id": "b9yZSegRlte7"
      },
      "source": [
        "**Question 3**"
      ]
    },
    {
      "cell_type": "markdown",
      "metadata": {
        "id": "WoXGtSIMlzCd"
      },
      "source": [
        "3.1   Build a predictive model for fraud.                                                                       \n",
        "\n",
        "3.2   What explanatory variable was the most powerful predictor for fraud?\n",
        "\n",
        "\n",
        "\n",
        "\n"
      ]
    },
    {
      "cell_type": "code",
      "metadata": {
        "id": "KK736Zc_lwkX"
      },
      "source": [
        ""
      ],
      "execution_count": null,
      "outputs": []
    }
  ]
}